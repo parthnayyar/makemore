{
 "cells": [
  {
   "cell_type": "code",
   "execution_count": 78,
   "metadata": {},
   "outputs": [],
   "source": [
    "import matplotlib.pyplot as plt\n",
    "import random\n",
    "import torch\n",
    "import tqdm"
   ]
  },
  {
   "cell_type": "code",
   "execution_count": 188,
   "metadata": {},
   "outputs": [],
   "source": [
    "INPUT_FILE = \"input.txt\"\n",
    "TRAIN_RATIO = 0.8\n",
    "VAL_RATIO = 0.1\n",
    "TEST_RATIO = 0.1\n",
    "BATCH_SIZE = 64\n",
    "CONTEXT_SIZE = 3\n",
    "EMBEDDING_DIM = 10\n",
    "L1_N_NEURONS = 300\n",
    "LEARNING_RATE = 0.1\n",
    "N_EPOCHS = 5\n",
    "LR_DECAY_FREQ = 2\n",
    "LR_DECAY_FACTOR = 0.1"
   ]
  },
  {
   "cell_type": "code",
   "execution_count": 189,
   "metadata": {},
   "outputs": [
    {
     "name": "stdout",
     "output_type": "stream",
     "text": [
      "read 32033 words from input.txt\n"
     ]
    }
   ],
   "source": [
    "with open(INPUT_FILE) as f:\n",
    "    words = f.read().splitlines()\n",
    "\n",
    "print(f\"read {len(words)} words from {INPUT_FILE}\")"
   ]
  },
  {
   "cell_type": "code",
   "execution_count": 190,
   "metadata": {},
   "outputs": [],
   "source": [
    "tokens = sorted(set(\"\".join(words)))\n",
    "tokens.extend([\".\"])\n",
    "token_to_index = {token: index for index, token in enumerate(tokens)}\n",
    "index_to_token = {index: token for index, token in enumerate(tokens)}\n",
    "tokenized_words = [[token_to_index[token] for token in word] for word in words]"
   ]
  },
  {
   "cell_type": "code",
   "execution_count": 191,
   "metadata": {},
   "outputs": [],
   "source": [
    "def make_dataset(tokenized_words):\n",
    "    X, Y = [], []\n",
    "    for tokenized_word in tokenized_words:\n",
    "        context = [token_to_index[\".\"]] * CONTEXT_SIZE\n",
    "        for token in tokenized_word+[token_to_index[\".\"]]:\n",
    "            X.append(context)\n",
    "            Y.append(token)\n",
    "            context = context[1:] + [token]\n",
    "    return torch.tensor(X), torch.tensor(Y)"
   ]
  },
  {
   "cell_type": "code",
   "execution_count": 192,
   "metadata": {},
   "outputs": [],
   "source": [
    "random.shuffle(tokenized_words)\n",
    "n_words = len(tokenized_words)\n",
    "X_train, Y_train = make_dataset(tokenized_words[:int(TRAIN_RATIO*n_words)])\n",
    "X_val, Y_val = make_dataset(tokenized_words[int(TRAIN_RATIO*n_words):int((TRAIN_RATIO+VAL_RATIO)*n_words)])\n",
    "X_test, Y_test = make_dataset(tokenized_words[int((TRAIN_RATIO+VAL_RATIO)*n_words):])"
   ]
  },
  {
   "cell_type": "code",
   "execution_count": 193,
   "metadata": {},
   "outputs": [
    {
     "name": "stdout",
     "output_type": "stream",
     "text": [
      "number of parameters: 17697\n"
     ]
    }
   ],
   "source": [
    "embeddings = torch.randn((len(tokens), EMBEDDING_DIM), requires_grad=True)\n",
    "w1 = torch.randn((CONTEXT_SIZE * EMBEDDING_DIM, L1_N_NEURONS), requires_grad=True)\n",
    "b1 = torch.randn(L1_N_NEURONS, requires_grad=True)\n",
    "w2 = torch.randn((L1_N_NEURONS, len(tokens)), requires_grad=True)\n",
    "b2 = torch.randn(len(tokens), requires_grad=True)\n",
    "parameters = [embeddings, w1, b1, w2, b2]\n",
    "print(f\"number of parameters: {sum(p.numel() for p in parameters)}\")"
   ]
  },
  {
   "cell_type": "code",
   "execution_count": 194,
   "metadata": {},
   "outputs": [
    {
     "name": "stderr",
     "output_type": "stream",
     "text": [
      " 20%|██        | 1/5 [00:06<00:26,  6.56s/it]"
     ]
    },
    {
     "name": "stdout",
     "output_type": "stream",
     "text": [
      "epoch 1, train loss 2.877, val loss 2.924 with learning rate 0.100\n"
     ]
    },
    {
     "name": "stderr",
     "output_type": "stream",
     "text": [
      " 40%|████      | 2/5 [00:12<00:17,  5.99s/it]"
     ]
    },
    {
     "name": "stdout",
     "output_type": "stream",
     "text": [
      "epoch 2, train loss 2.673, val loss 2.712 with learning rate 0.100\n"
     ]
    },
    {
     "name": "stderr",
     "output_type": "stream",
     "text": [
      " 60%|██████    | 3/5 [00:17<00:11,  5.71s/it]"
     ]
    },
    {
     "name": "stdout",
     "output_type": "stream",
     "text": [
      "epoch 3, train loss 2.367, val loss 2.402 with learning rate 0.010\n"
     ]
    },
    {
     "name": "stderr",
     "output_type": "stream",
     "text": [
      " 80%|████████  | 4/5 [00:21<00:05,  5.12s/it]"
     ]
    },
    {
     "name": "stdout",
     "output_type": "stream",
     "text": [
      "epoch 4, train loss 2.354, val loss 2.391 with learning rate 0.010\n"
     ]
    },
    {
     "name": "stderr",
     "output_type": "stream",
     "text": [
      "100%|██████████| 5/5 [00:28<00:00,  5.61s/it]"
     ]
    },
    {
     "name": "stdout",
     "output_type": "stream",
     "text": [
      "epoch 5, train loss 2.339, val loss 2.376 with learning rate 0.001\n"
     ]
    },
    {
     "name": "stderr",
     "output_type": "stream",
     "text": [
      "\n"
     ]
    }
   ],
   "source": [
    "n_optimizations = 0\n",
    "log_every = 100\n",
    "train_losses = [] # train log losses\n",
    "val_losses = [] # val log losses\n",
    "\n",
    "current_learning_rate = LEARNING_RATE\n",
    "for i in tqdm.tqdm(range(N_EPOCHS)):\n",
    "\n",
    "    # decay learning rate\n",
    "    if i > 0 and i % LR_DECAY_FREQ == 0:\n",
    "        current_learning_rate *= LR_DECAY_FACTOR\n",
    "\n",
    "    # shuffle data\n",
    "    shuffled_indices = torch.randperm(X_train.shape[0])\n",
    "    X_train = X_train[shuffled_indices]\n",
    "    Y_train = Y_train[shuffled_indices]\n",
    "\n",
    "    for b in range(0, len(X_train), BATCH_SIZE):\n",
    "        # forward pass\n",
    "        layer1 = torch.tanh(embeddings[X_train[b:b+BATCH_SIZE]].view(-1, CONTEXT_SIZE * EMBEDDING_DIM) @ w1 + b1)\n",
    "        layer2 = layer1 @ w2 + b2\n",
    "        loss = torch.nn.functional.cross_entropy(layer2, Y_train[b:b+BATCH_SIZE])\n",
    "\n",
    "        # backward pass\n",
    "        for p in parameters:\n",
    "            p.grad = None\n",
    "        loss.backward()\n",
    "        for p in parameters:\n",
    "            p.data += -current_learning_rate * p.grad\n",
    "\n",
    "        # log\n",
    "        if  n_optimizations == 0 or n_optimizations % log_every == 0 or n_optimizations == len(X_train) // BATCH_SIZE - 1:\n",
    "            layer1 = torch.tanh(embeddings[X_train].view(-1, CONTEXT_SIZE * EMBEDDING_DIM) @ w1 + b1)\n",
    "            layer2 = layer1 @ w2 + b2\n",
    "            train_losses.append(torch.nn.functional.cross_entropy(layer2, Y_train).log10().item())\n",
    "            layer1 = torch.tanh(embeddings[X_val].view(-1, CONTEXT_SIZE * EMBEDDING_DIM) @ w1 + b1)\n",
    "            layer2 = layer1 @ w2 + b2\n",
    "            val_losses.append(torch.nn.functional.cross_entropy(layer2, Y_val).log10().item())\n",
    "        n_optimizations += 1\n",
    "\n",
    "    print(f\"epoch {i+1}, train loss {10**train_losses[-1]:.3f}, val loss {10**val_losses[-1]:.3f} with learning rate {current_learning_rate:.3f}\")"
   ]
  },
  {
   "cell_type": "code",
   "execution_count": 196,
   "metadata": {},
   "outputs": [
    {
     "data": {
      "image/png": "[encoded data removed]",
      "text/plain": [
       "<Figure size 640x480 with 1 Axes>"
      ]
     },
     "metadata": {},
     "output_type": "display_data"
    }
   ],
   "source": [
    "plt.plot(train_losses, label=\"train loss\")\n",
    "plt.plot(val_losses, label=\"val loss\")\n",
    "plt.legend()\n",
    "plt.show()"
   ]
  },
  {
   "cell_type": "code",
   "execution_count": 200,
   "metadata": {},
   "outputs": [],
   "source": [
    "def infer_word():\n",
    "    context = [token_to_index[\".\"]] * CONTEXT_SIZE\n",
    "    word = \"\"\n",
    "    while True:\n",
    "        layer1 = torch.tanh(embeddings[context].view(-1, CONTEXT_SIZE * EMBEDDING_DIM) @ w1 + b1)\n",
    "        layer2 = layer1 @ w2 + b2\n",
    "        probabilities = torch.nn.functional.softmax(layer2, dim=1)\n",
    "        index = torch.multinomial(probabilities, num_samples=1)[0].item()\n",
    "        if index == token_to_index[\".\"]:\n",
    "            break\n",
    "        context = context[1:] + [index]\n",
    "        word += index_to_token[index]\n",
    "    return word"
   ]
  },
  {
   "cell_type": "code",
   "execution_count": 211,
   "metadata": {},
   "outputs": [
    {
     "name": "stdout",
     "output_type": "stream",
     "text": [
      "giac\n",
      "sah\n",
      "rashns\n",
      "dorylene\n",
      "kayyn\n",
      "iion\n",
      "breelynneka\n",
      "jakmitin\n",
      "merrivalsllan\n",
      "ritha\n",
      "aiha\n",
      "kosttuna\n",
      "jekalis\n",
      "abillania\n",
      "cobilleliderryiah\n",
      "auci\n",
      "cieina\n",
      "ery\n",
      "diollyn\n",
      "kirsh\n"
     ]
    }
   ],
   "source": [
    "for i in range(20):\n",
    "    word = infer_word()\n",
    "    while word in words:\n",
    "        word = infer_word()\n",
    "    print(word)"
   ]
  }
 ],
 "metadata": {
  "kernelspec": {
   "display_name": "makemore",
   "language": "python",
   "name": "python3"
  },
  "language_info": {
   "codemirror_mode": {
    "name": "ipython",
    "version": 3
   },
   "file_extension": ".py",
   "mimetype": "text/x-python",
   "name": "python",
   "nbconvert_exporter": "python",
   "pygments_lexer": "ipython3",
   "version": "3.13.2"
  }
 },
 "nbformat": 4,
 "nbformat_minor": 2
}
